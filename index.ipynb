{
 "cells": [
  {
   "cell_type": "markdown",
   "metadata": {},
   "source": [
    "# Properties of Dot Product - Lab"
   ]
  },
  {
   "cell_type": "markdown",
   "metadata": {},
   "source": [
    "## Introduction\n",
    "\n",
    "In this lab we shall look at some interesting properties of a Dot product type matrix multiplication. Understanding these properties will become useful as we move forward with machine learning advanced linear algebra. The lab will require you to calculate results to provide a proof for these properties.\n",
    "\n",
    "## Objectives\n",
    "You will be able to:\n",
    "* Understand and analytically explain Distributive, Commutative and Associative properties of dot product\n",
    "\n",
    "## Instructions\n",
    "\n",
    "* For each property, create suitably sized matrices with random data and prove the equations \n",
    "* Ensure that size/dimension assumptions are met while performing calculations (you'll see errors otherwise)\n",
    "* Calculate the LHS and RHS for all equations and show if they are equal or not"
   ]
  },
  {
   "cell_type": "markdown",
   "metadata": {},
   "source": [
    "## Distributive Property - Matrices multiplication is distributive\n",
    "### Prove that A.(B+C)=A.B+A.C"
   ]
  },
  {
   "cell_type": "code",
   "execution_count": 2,
   "metadata": {},
   "outputs": [],
   "source": [
    "import numpy as np"
   ]
  },
  {
   "cell_type": "code",
   "execution_count": 4,
   "metadata": {},
   "outputs": [
    {
     "name": "stdout",
     "output_type": "stream",
     "text": [
      "[[24 36]\n",
      " [54 82]]\n",
      "[[24 36]\n",
      " [54 82]]\n"
     ]
    }
   ],
   "source": [
    "# Your code here\n",
    "A = np.array([[1,2],[3,4]])\n",
    "B = np.array([[5,6],[7,8]])\n",
    "C = np.array([[1,4],[2,5]])\n",
    "\n",
    "D = A.dot(B + C)\n",
    "E = A.dot(B) + A.dot(C)\n",
    "\n",
    "print(D)\n",
    "print(E)"
   ]
  },
  {
   "cell_type": "markdown",
   "metadata": {},
   "source": [
    "## Associative Property - Matrices multiplication is associative\n",
    "### Prove that A.(B.C)=(A.B).C"
   ]
  },
  {
   "cell_type": "code",
   "execution_count": 5,
   "metadata": {},
   "outputs": [
    {
     "name": "stdout",
     "output_type": "stream",
     "text": [
      "[[ 63 186]\n",
      " [143 422]]\n",
      "[[ 63 186]\n",
      " [143 422]]\n"
     ]
    }
   ],
   "source": [
    "# Your code here \n",
    "\n",
    "A = np.array([[1,2],[3,4]])\n",
    "B = np.array([[5,6],[7,8]])\n",
    "C = np.array([[1,4],[2,5]])\n",
    "\n",
    "D = A.dot(B.dot(C))\n",
    "E = (A.dot(B)).dot(C)\n",
    "\n",
    "print(D)\n",
    "print(E)"
   ]
  },
  {
   "cell_type": "markdown",
   "metadata": {},
   "source": [
    "## Commutative Property - Matrix multiplication is NOT commutative\n",
    "### Prove that for matrices, A.B ≠ B.A"
   ]
  },
  {
   "cell_type": "code",
   "execution_count": 6,
   "metadata": {},
   "outputs": [
    {
     "name": "stdout",
     "output_type": "stream",
     "text": [
      "[[19 22]\n",
      " [43 50]]\n",
      "[[23 34]\n",
      " [31 46]]\n"
     ]
    }
   ],
   "source": [
    "# Your code here \n",
    "\n",
    "D = A.dot(B)\n",
    "E = B.dot(A)\n",
    "\n",
    "print(D)\n",
    "print(E)"
   ]
  },
  {
   "cell_type": "markdown",
   "metadata": {},
   "source": [
    "## Commutative Property -  vector multiplication IS commutative\n",
    "### Prove that for vectors, x<sup>T</sup> . y = y<sup>T</sup> . x\n",
    "Note: superscipt<sup>T</sup> denotes the transpose we saw earlier"
   ]
  },
  {
   "cell_type": "code",
   "execution_count": 7,
   "metadata": {},
   "outputs": [
    {
     "name": "stdout",
     "output_type": "stream",
     "text": [
      "32\n",
      "32\n"
     ]
    }
   ],
   "source": [
    "# Your code here \n",
    "\n",
    "x = np.array([1,2,3])\n",
    "y = np.array([4,5,6])\n",
    "\n",
    "x_transpose = x.T\n",
    "y_transpose = y.T\n",
    "\n",
    "D = x_transpose.dot(y)\n",
    "E = y_transpose.dot(x)\n",
    "\n",
    "print(D)\n",
    "print(E)"
   ]
  },
  {
   "cell_type": "markdown",
   "metadata": {},
   "source": [
    "#### and finally \n",
    "## Simplification of the matrix product\n",
    "### Prove that  (A.B)<sup>T</sup> = B<sup>T</sup> . A<sup>T</sup>"
   ]
  },
  {
   "cell_type": "code",
   "execution_count": 8,
   "metadata": {},
   "outputs": [
    {
     "name": "stdout",
     "output_type": "stream",
     "text": [
      "[[19 43]\n",
      " [22 50]]\n",
      "[[19 43]\n",
      " [22 50]]\n"
     ]
    }
   ],
   "source": [
    "# Your code here \n",
    "\n",
    "C = (A.dot(B)).T\n",
    "D = (B.T).dot(A.T)\n",
    "\n",
    "print(C)\n",
    "print(D)"
   ]
  },
  {
   "cell_type": "markdown",
   "metadata": {},
   "source": [
    "## Summary \n",
    "\n",
    "So now we have seen enough matrix algebra to help us solve a problem of linear equations as we saw earlier in this section. We shall see how to do this next. "
   ]
  }
 ],
 "metadata": {
  "kernelspec": {
   "display_name": "Python 3",
   "language": "python",
   "name": "python3"
  },
  "language_info": {
   "codemirror_mode": {
    "name": "ipython",
    "version": 3
   },
   "file_extension": ".py",
   "mimetype": "text/x-python",
   "name": "python",
   "nbconvert_exporter": "python",
   "pygments_lexer": "ipython3",
   "version": "3.6.5"
  }
 },
 "nbformat": 4,
 "nbformat_minor": 2
}
